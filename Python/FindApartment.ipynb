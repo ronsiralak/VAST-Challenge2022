{
 "cells": [
  {
   "cell_type": "code",
   "execution_count": 16,
   "metadata": {},
   "outputs": [],
   "source": [
    "import pandas as pd\n",
    "import numpy as np\n",
    "import matplotlib.pyplot as plt"
   ]
  },
  {
   "cell_type": "code",
   "execution_count": 17,
   "metadata": {},
   "outputs": [
    {
     "data": {
      "text/html": [
       "<div>\n",
       "<style scoped>\n",
       "    .dataframe tbody tr th:only-of-type {\n",
       "        vertical-align: middle;\n",
       "    }\n",
       "\n",
       "    .dataframe tbody tr th {\n",
       "        vertical-align: top;\n",
       "    }\n",
       "\n",
       "    .dataframe thead th {\n",
       "        text-align: right;\n",
       "    }\n",
       "</style>\n",
       "<table border=\"1\" class=\"dataframe\">\n",
       "  <thead>\n",
       "    <tr style=\"text-align: right;\">\n",
       "      <th></th>\n",
       "      <th>timestamp</th>\n",
       "      <th>currentLocation</th>\n",
       "      <th>participantId</th>\n",
       "      <th>currentMode</th>\n",
       "      <th>hungerStatus</th>\n",
       "      <th>sleepStatus</th>\n",
       "      <th>apartmentId</th>\n",
       "      <th>availableBalance</th>\n",
       "      <th>jobId</th>\n",
       "      <th>financialStatus</th>\n",
       "      <th>dailyFoodBudget</th>\n",
       "      <th>weeklyExtraBudget</th>\n",
       "    </tr>\n",
       "  </thead>\n",
       "  <tbody>\n",
       "    <tr>\n",
       "      <th>0</th>\n",
       "      <td>2022-03-01T00:00:00Z</td>\n",
       "      <td>POINT (-2724.6277665310454 6866.2081834436985)</td>\n",
       "      <td>0</td>\n",
       "      <td>AtHome</td>\n",
       "      <td>JustAte</td>\n",
       "      <td>Sleeping</td>\n",
       "      <td>926.0</td>\n",
       "      <td>1286.519556</td>\n",
       "      <td>254</td>\n",
       "      <td>Stable</td>\n",
       "      <td>12</td>\n",
       "      <td>1104.302570</td>\n",
       "    </tr>\n",
       "    <tr>\n",
       "      <th>1</th>\n",
       "      <td>2022-03-01T00:00:00Z</td>\n",
       "      <td>POINT (-1526.9372331431534 5582.2951345645315)</td>\n",
       "      <td>1</td>\n",
       "      <td>AtHome</td>\n",
       "      <td>JustAte</td>\n",
       "      <td>Sleeping</td>\n",
       "      <td>928.0</td>\n",
       "      <td>860.574204</td>\n",
       "      <td>929</td>\n",
       "      <td>Stable</td>\n",
       "      <td>12</td>\n",
       "      <td>926.714377</td>\n",
       "    </tr>\n",
       "    <tr>\n",
       "      <th>2</th>\n",
       "      <td>2022-03-01T00:00:00Z</td>\n",
       "      <td>POINT (-1360.9905987829304 2108.804385379679)</td>\n",
       "      <td>2</td>\n",
       "      <td>AtHome</td>\n",
       "      <td>JustAte</td>\n",
       "      <td>Sleeping</td>\n",
       "      <td>291.0</td>\n",
       "      <td>1298.184541</td>\n",
       "      <td>348</td>\n",
       "      <td>Stable</td>\n",
       "      <td>16</td>\n",
       "      <td>848.802876</td>\n",
       "    </tr>\n",
       "    <tr>\n",
       "      <th>3</th>\n",
       "      <td>2022-03-01T00:00:00Z</td>\n",
       "      <td>POINT (-1558.517200825967 5600.664347152427)</td>\n",
       "      <td>3</td>\n",
       "      <td>AtHome</td>\n",
       "      <td>JustAte</td>\n",
       "      <td>Sleeping</td>\n",
       "      <td>1243.0</td>\n",
       "      <td>1180.641725</td>\n",
       "      <td>316</td>\n",
       "      <td>Stable</td>\n",
       "      <td>12</td>\n",
       "      <td>819.325405</td>\n",
       "    </tr>\n",
       "    <tr>\n",
       "      <th>4</th>\n",
       "      <td>2022-03-01T00:00:00Z</td>\n",
       "      <td>POINT (976.2409614204214 4574.575079082071)</td>\n",
       "      <td>4</td>\n",
       "      <td>AtHome</td>\n",
       "      <td>JustAte</td>\n",
       "      <td>Sleeping</td>\n",
       "      <td>194.0</td>\n",
       "      <td>-681.650588</td>\n",
       "      <td>177</td>\n",
       "      <td>Unstable</td>\n",
       "      <td>20</td>\n",
       "      <td>0.000000</td>\n",
       "    </tr>\n",
       "  </tbody>\n",
       "</table>\n",
       "</div>"
      ],
      "text/plain": [
       "              timestamp                                 currentLocation  \\\n",
       "0  2022-03-01T00:00:00Z  POINT (-2724.6277665310454 6866.2081834436985)   \n",
       "1  2022-03-01T00:00:00Z  POINT (-1526.9372331431534 5582.2951345645315)   \n",
       "2  2022-03-01T00:00:00Z   POINT (-1360.9905987829304 2108.804385379679)   \n",
       "3  2022-03-01T00:00:00Z    POINT (-1558.517200825967 5600.664347152427)   \n",
       "4  2022-03-01T00:00:00Z     POINT (976.2409614204214 4574.575079082071)   \n",
       "\n",
       "   participantId currentMode hungerStatus sleepStatus  apartmentId  \\\n",
       "0              0      AtHome      JustAte    Sleeping        926.0   \n",
       "1              1      AtHome      JustAte    Sleeping        928.0   \n",
       "2              2      AtHome      JustAte    Sleeping        291.0   \n",
       "3              3      AtHome      JustAte    Sleeping       1243.0   \n",
       "4              4      AtHome      JustAte    Sleeping        194.0   \n",
       "\n",
       "   availableBalance  jobId financialStatus  dailyFoodBudget  weeklyExtraBudget  \n",
       "0       1286.519556    254          Stable               12        1104.302570  \n",
       "1        860.574204    929          Stable               12         926.714377  \n",
       "2       1298.184541    348          Stable               16         848.802876  \n",
       "3       1180.641725    316          Stable               12         819.325405  \n",
       "4       -681.650588    177        Unstable               20           0.000000  "
      ]
     },
     "execution_count": 17,
     "metadata": {},
     "output_type": "execute_result"
    }
   ],
   "source": [
    "FileAddress = 'VAST-Challenge-2022\\Datasets\\Activity Logs\\ParticipantStatusLogs1.csv'\n",
    "df=pd.read_csv(FileAddress)\n",
    "df.head()"
   ]
  },
  {
   "cell_type": "code",
   "execution_count": 18,
   "metadata": {},
   "outputs": [
    {
     "data": {
      "text/html": [
       "<div>\n",
       "<style scoped>\n",
       "    .dataframe tbody tr th:only-of-type {\n",
       "        vertical-align: middle;\n",
       "    }\n",
       "\n",
       "    .dataframe tbody tr th {\n",
       "        vertical-align: top;\n",
       "    }\n",
       "\n",
       "    .dataframe thead th {\n",
       "        text-align: right;\n",
       "    }\n",
       "</style>\n",
       "<table border=\"1\" class=\"dataframe\">\n",
       "  <thead>\n",
       "    <tr style=\"text-align: right;\">\n",
       "      <th></th>\n",
       "      <th>currentLocation</th>\n",
       "      <th>participantId</th>\n",
       "      <th>apartmentId</th>\n",
       "    </tr>\n",
       "  </thead>\n",
       "  <tbody>\n",
       "    <tr>\n",
       "      <th>0</th>\n",
       "      <td>POINT (-2724.6277665310454 6866.2081834436985)</td>\n",
       "      <td>0</td>\n",
       "      <td>926.0</td>\n",
       "    </tr>\n",
       "    <tr>\n",
       "      <th>1</th>\n",
       "      <td>POINT (-1526.9372331431534 5582.2951345645315)</td>\n",
       "      <td>1</td>\n",
       "      <td>928.0</td>\n",
       "    </tr>\n",
       "    <tr>\n",
       "      <th>2</th>\n",
       "      <td>POINT (-1360.9905987829304 2108.804385379679)</td>\n",
       "      <td>2</td>\n",
       "      <td>291.0</td>\n",
       "    </tr>\n",
       "    <tr>\n",
       "      <th>3</th>\n",
       "      <td>POINT (-1558.517200825967 5600.664347152427)</td>\n",
       "      <td>3</td>\n",
       "      <td>1243.0</td>\n",
       "    </tr>\n",
       "    <tr>\n",
       "      <th>4</th>\n",
       "      <td>POINT (976.2409614204214 4574.575079082071)</td>\n",
       "      <td>4</td>\n",
       "      <td>194.0</td>\n",
       "    </tr>\n",
       "  </tbody>\n",
       "</table>\n",
       "</div>"
      ],
      "text/plain": [
       "                                  currentLocation  participantId  apartmentId\n",
       "0  POINT (-2724.6277665310454 6866.2081834436985)              0        926.0\n",
       "1  POINT (-1526.9372331431534 5582.2951345645315)              1        928.0\n",
       "2   POINT (-1360.9905987829304 2108.804385379679)              2        291.0\n",
       "3    POINT (-1558.517200825967 5600.664347152427)              3       1243.0\n",
       "4     POINT (976.2409614204214 4574.575079082071)              4        194.0"
      ]
     },
     "execution_count": 18,
     "metadata": {},
     "output_type": "execute_result"
    }
   ],
   "source": [
    "df.drop(columns=['timestamp',\n",
    "                    'hungerStatus',\n",
    "                    'sleepStatus',\n",
    "                    'availableBalance',\n",
    "                    'jobId',\n",
    "                    'financialStatus',\n",
    "                    'dailyFoodBudget',\n",
    "                    'weeklyExtraBudget'],axis=0, inplace=True)\n",
    "df.drop(df[df['currentMode'] != 'AtHome'].index, inplace = True) #Only AtHome location\n",
    "df.drop(columns=['currentMode'],axis=0, inplace=True)\n",
    "df.head()"
   ]
  },
  {
   "cell_type": "code",
   "execution_count": 19,
   "metadata": {},
   "outputs": [
    {
     "name": "stderr",
     "output_type": "stream",
     "text": [
      "C:\\Users\\Admin\\AppData\\Local\\Temp\\ipykernel_12976\\2846451013.py:2: FutureWarning: The default value of regex will change from True to False in a future version. In addition, single character regular expressions will *not* be treated as literal strings when regex=True.\n",
      "  df['currentLocation'] = df['currentLocation'].str.replace('(', '')\n",
      "C:\\Users\\Admin\\AppData\\Local\\Temp\\ipykernel_12976\\2846451013.py:3: FutureWarning: The default value of regex will change from True to False in a future version. In addition, single character regular expressions will *not* be treated as literal strings when regex=True.\n",
      "  df['currentLocation'] = df['currentLocation'].str.replace(')', '')\n"
     ]
    },
    {
     "data": {
      "text/html": [
       "<div>\n",
       "<style scoped>\n",
       "    .dataframe tbody tr th:only-of-type {\n",
       "        vertical-align: middle;\n",
       "    }\n",
       "\n",
       "    .dataframe tbody tr th {\n",
       "        vertical-align: top;\n",
       "    }\n",
       "\n",
       "    .dataframe thead th {\n",
       "        text-align: right;\n",
       "    }\n",
       "</style>\n",
       "<table border=\"1\" class=\"dataframe\">\n",
       "  <thead>\n",
       "    <tr style=\"text-align: right;\">\n",
       "      <th></th>\n",
       "      <th>currentLocation</th>\n",
       "      <th>participantId</th>\n",
       "      <th>apartmentId</th>\n",
       "    </tr>\n",
       "  </thead>\n",
       "  <tbody>\n",
       "    <tr>\n",
       "      <th>0</th>\n",
       "      <td>-2724.6277665310454 6866.2081834436985</td>\n",
       "      <td>0</td>\n",
       "      <td>926.0</td>\n",
       "    </tr>\n",
       "    <tr>\n",
       "      <th>1</th>\n",
       "      <td>-1526.9372331431534 5582.2951345645315</td>\n",
       "      <td>1</td>\n",
       "      <td>928.0</td>\n",
       "    </tr>\n",
       "    <tr>\n",
       "      <th>2</th>\n",
       "      <td>-1360.9905987829304 2108.804385379679</td>\n",
       "      <td>2</td>\n",
       "      <td>291.0</td>\n",
       "    </tr>\n",
       "    <tr>\n",
       "      <th>3</th>\n",
       "      <td>-1558.517200825967 5600.664347152427</td>\n",
       "      <td>3</td>\n",
       "      <td>1243.0</td>\n",
       "    </tr>\n",
       "    <tr>\n",
       "      <th>4</th>\n",
       "      <td>976.2409614204214 4574.575079082071</td>\n",
       "      <td>4</td>\n",
       "      <td>194.0</td>\n",
       "    </tr>\n",
       "  </tbody>\n",
       "</table>\n",
       "</div>"
      ],
      "text/plain": [
       "                           currentLocation  participantId  apartmentId\n",
       "0   -2724.6277665310454 6866.2081834436985              0        926.0\n",
       "1   -1526.9372331431534 5582.2951345645315              1        928.0\n",
       "2    -1360.9905987829304 2108.804385379679              2        291.0\n",
       "3     -1558.517200825967 5600.664347152427              3       1243.0\n",
       "4      976.2409614204214 4574.575079082071              4        194.0"
      ]
     },
     "execution_count": 19,
     "metadata": {},
     "output_type": "execute_result"
    }
   ],
   "source": [
    "df['currentLocation'] = df['currentLocation'].str.replace('POINT', '')\n",
    "df['currentLocation'] = df['currentLocation'].str.replace('(', '')\n",
    "df['currentLocation'] = df['currentLocation'].str.replace(')', '')\n",
    "df.head()"
   ]
  },
  {
   "cell_type": "code",
   "execution_count": 20,
   "metadata": {},
   "outputs": [
    {
     "name": "stderr",
     "output_type": "stream",
     "text": [
      "C:\\Users\\Admin\\AppData\\Local\\Temp\\ipykernel_12976\\1746722918.py:1: FutureWarning: Columnar iteration over characters will be deprecated in future releases.\n",
      "  df['DummyX'], df['DummyY'] = df['currentLocation'].str.split(' ', 1).str #clear first ' '\n",
      "C:\\Users\\Admin\\AppData\\Local\\Temp\\ipykernel_12976\\1746722918.py:2: FutureWarning: Columnar iteration over characters will be deprecated in future releases.\n",
      "  df['X'], df['Y'] = df['DummyY'].str.split(' ', 1).str\n"
     ]
    },
    {
     "data": {
      "text/html": [
       "<div>\n",
       "<style scoped>\n",
       "    .dataframe tbody tr th:only-of-type {\n",
       "        vertical-align: middle;\n",
       "    }\n",
       "\n",
       "    .dataframe tbody tr th {\n",
       "        vertical-align: top;\n",
       "    }\n",
       "\n",
       "    .dataframe thead th {\n",
       "        text-align: right;\n",
       "    }\n",
       "</style>\n",
       "<table border=\"1\" class=\"dataframe\">\n",
       "  <thead>\n",
       "    <tr style=\"text-align: right;\">\n",
       "      <th></th>\n",
       "      <th>participantId</th>\n",
       "      <th>apartmentId</th>\n",
       "      <th>X</th>\n",
       "      <th>Y</th>\n",
       "    </tr>\n",
       "  </thead>\n",
       "  <tbody>\n",
       "    <tr>\n",
       "      <th>0</th>\n",
       "      <td>0</td>\n",
       "      <td>926.0</td>\n",
       "      <td>-2724.6277665310454</td>\n",
       "      <td>6866.2081834436985</td>\n",
       "    </tr>\n",
       "    <tr>\n",
       "      <th>1</th>\n",
       "      <td>1</td>\n",
       "      <td>928.0</td>\n",
       "      <td>-1526.9372331431534</td>\n",
       "      <td>5582.2951345645315</td>\n",
       "    </tr>\n",
       "    <tr>\n",
       "      <th>2</th>\n",
       "      <td>2</td>\n",
       "      <td>291.0</td>\n",
       "      <td>-1360.9905987829304</td>\n",
       "      <td>2108.804385379679</td>\n",
       "    </tr>\n",
       "    <tr>\n",
       "      <th>3</th>\n",
       "      <td>3</td>\n",
       "      <td>1243.0</td>\n",
       "      <td>-1558.517200825967</td>\n",
       "      <td>5600.664347152427</td>\n",
       "    </tr>\n",
       "    <tr>\n",
       "      <th>4</th>\n",
       "      <td>4</td>\n",
       "      <td>194.0</td>\n",
       "      <td>976.2409614204214</td>\n",
       "      <td>4574.575079082071</td>\n",
       "    </tr>\n",
       "  </tbody>\n",
       "</table>\n",
       "</div>"
      ],
      "text/plain": [
       "   participantId  apartmentId                    X                   Y\n",
       "0              0        926.0  -2724.6277665310454  6866.2081834436985\n",
       "1              1        928.0  -1526.9372331431534  5582.2951345645315\n",
       "2              2        291.0  -1360.9905987829304   2108.804385379679\n",
       "3              3       1243.0   -1558.517200825967   5600.664347152427\n",
       "4              4        194.0    976.2409614204214   4574.575079082071"
      ]
     },
     "execution_count": 20,
     "metadata": {},
     "output_type": "execute_result"
    }
   ],
   "source": [
    "df['DummyX'], df['DummyY'] = df['currentLocation'].str.split(' ', 1).str #clear first ' ' \n",
    "df['X'], df['Y'] = df['DummyY'].str.split(' ', 1).str\n",
    "df.drop(columns=['currentLocation','DummyX','DummyY'],axis=0, inplace=True)\n",
    "df.head()"
   ]
  },
  {
   "cell_type": "code",
   "execution_count": 21,
   "metadata": {},
   "outputs": [
    {
     "data": {
      "text/html": [
       "<div>\n",
       "<style scoped>\n",
       "    .dataframe tbody tr th:only-of-type {\n",
       "        vertical-align: middle;\n",
       "    }\n",
       "\n",
       "    .dataframe tbody tr th {\n",
       "        vertical-align: top;\n",
       "    }\n",
       "\n",
       "    .dataframe thead th {\n",
       "        text-align: right;\n",
       "    }\n",
       "</style>\n",
       "<table border=\"1\" class=\"dataframe\">\n",
       "  <thead>\n",
       "    <tr style=\"text-align: right;\">\n",
       "      <th></th>\n",
       "      <th>participantId</th>\n",
       "      <th>apartmentId</th>\n",
       "      <th>X</th>\n",
       "      <th>Y</th>\n",
       "    </tr>\n",
       "  </thead>\n",
       "  <tbody>\n",
       "    <tr>\n",
       "      <th>0</th>\n",
       "      <td>0</td>\n",
       "      <td>926.0</td>\n",
       "      <td>-2724.6277665310454</td>\n",
       "      <td>6866.2081834436985</td>\n",
       "    </tr>\n",
       "    <tr>\n",
       "      <th>1</th>\n",
       "      <td>1</td>\n",
       "      <td>928.0</td>\n",
       "      <td>-1526.9372331431534</td>\n",
       "      <td>5582.2951345645315</td>\n",
       "    </tr>\n",
       "    <tr>\n",
       "      <th>2</th>\n",
       "      <td>2</td>\n",
       "      <td>291.0</td>\n",
       "      <td>-1360.9905987829304</td>\n",
       "      <td>2108.804385379679</td>\n",
       "    </tr>\n",
       "    <tr>\n",
       "      <th>3</th>\n",
       "      <td>3</td>\n",
       "      <td>1243.0</td>\n",
       "      <td>-1558.517200825967</td>\n",
       "      <td>5600.664347152427</td>\n",
       "    </tr>\n",
       "    <tr>\n",
       "      <th>794650</th>\n",
       "      <td>4</td>\n",
       "      <td>136.0</td>\n",
       "      <td>1488.8432645870707</td>\n",
       "      <td>3503.579947354824</td>\n",
       "    </tr>\n",
       "    <tr>\n",
       "      <th>...</th>\n",
       "      <td>...</td>\n",
       "      <td>...</td>\n",
       "      <td>...</td>\n",
       "      <td>...</td>\n",
       "    </tr>\n",
       "    <tr>\n",
       "      <th>1006</th>\n",
       "      <td>1006</td>\n",
       "      <td>1633.0</td>\n",
       "      <td>-4227.972595816516</td>\n",
       "      <td>5315.296143771051</td>\n",
       "    </tr>\n",
       "    <tr>\n",
       "      <th>1007</th>\n",
       "      <td>1007</td>\n",
       "      <td>1620.0</td>\n",
       "      <td>-3964.6025264990335</td>\n",
       "      <td>6565.967796707195</td>\n",
       "    </tr>\n",
       "    <tr>\n",
       "      <th>1008</th>\n",
       "      <td>1008</td>\n",
       "      <td>525.0</td>\n",
       "      <td>-2153.571909256819</td>\n",
       "      <td>2521.0884089647766</td>\n",
       "    </tr>\n",
       "    <tr>\n",
       "      <th>1009</th>\n",
       "      <td>1009</td>\n",
       "      <td>663.0</td>\n",
       "      <td>-2362.9727109189403</td>\n",
       "      <td>4883.851861188674</td>\n",
       "    </tr>\n",
       "    <tr>\n",
       "      <th>1010</th>\n",
       "      <td>1010</td>\n",
       "      <td>597.0</td>\n",
       "      <td>-2100.356963979903</td>\n",
       "      <td>2596.3428032369716</td>\n",
       "    </tr>\n",
       "  </tbody>\n",
       "</table>\n",
       "<p>1048 rows × 4 columns</p>\n",
       "</div>"
      ],
      "text/plain": [
       "        participantId  apartmentId                    X                   Y\n",
       "0                   0        926.0  -2724.6277665310454  6866.2081834436985\n",
       "1                   1        928.0  -1526.9372331431534  5582.2951345645315\n",
       "2                   2        291.0  -1360.9905987829304   2108.804385379679\n",
       "3                   3       1243.0   -1558.517200825967   5600.664347152427\n",
       "794650              4        136.0   1488.8432645870707   3503.579947354824\n",
       "...               ...          ...                  ...                 ...\n",
       "1006             1006       1633.0   -4227.972595816516   5315.296143771051\n",
       "1007             1007       1620.0  -3964.6025264990335   6565.967796707195\n",
       "1008             1008        525.0   -2153.571909256819  2521.0884089647766\n",
       "1009             1009        663.0  -2362.9727109189403   4883.851861188674\n",
       "1010             1010        597.0   -2100.356963979903  2596.3428032369716\n",
       "\n",
       "[1048 rows x 4 columns]"
      ]
     },
     "execution_count": 21,
     "metadata": {},
     "output_type": "execute_result"
    }
   ],
   "source": [
    "df=df.drop_duplicates()\n",
    "df=df.fillna(0) #NA -> 0\n",
    "df=df.sort_values(by=['participantId'], ascending=True)\n",
    "df"
   ]
  },
  {
   "cell_type": "code",
   "execution_count": 22,
   "metadata": {},
   "outputs": [
    {
     "data": {
      "text/plain": [
       "participantId      int64\n",
       "apartmentId      float64\n",
       "X                 object\n",
       "Y                 object\n",
       "dtype: object"
      ]
     },
     "execution_count": 22,
     "metadata": {},
     "output_type": "execute_result"
    }
   ],
   "source": [
    "df.dtypes"
   ]
  },
  {
   "cell_type": "code",
   "execution_count": 23,
   "metadata": {},
   "outputs": [],
   "source": [
    "df=df.astype({'X': float,'Y': float})"
   ]
  },
  {
   "cell_type": "code",
   "execution_count": 24,
   "metadata": {},
   "outputs": [
    {
     "data": {
      "text/plain": [
       "participantId      int64\n",
       "apartmentId      float64\n",
       "X                float64\n",
       "Y                float64\n",
       "dtype: object"
      ]
     },
     "execution_count": 24,
     "metadata": {},
     "output_type": "execute_result"
    }
   ],
   "source": [
    "df.dtypes"
   ]
  },
  {
   "cell_type": "code",
   "execution_count": 25,
   "metadata": {},
   "outputs": [
    {
     "data": {
      "text/html": [
       "<div>\n",
       "<style scoped>\n",
       "    .dataframe tbody tr th:only-of-type {\n",
       "        vertical-align: middle;\n",
       "    }\n",
       "\n",
       "    .dataframe tbody tr th {\n",
       "        vertical-align: top;\n",
       "    }\n",
       "\n",
       "    .dataframe thead th {\n",
       "        text-align: right;\n",
       "    }\n",
       "</style>\n",
       "<table border=\"1\" class=\"dataframe\">\n",
       "  <thead>\n",
       "    <tr style=\"text-align: right;\">\n",
       "      <th></th>\n",
       "      <th>participantId</th>\n",
       "      <th>apartmentId</th>\n",
       "      <th>X</th>\n",
       "      <th>Y</th>\n",
       "    </tr>\n",
       "  </thead>\n",
       "  <tbody>\n",
       "    <tr>\n",
       "      <th>44</th>\n",
       "      <td>44</td>\n",
       "      <td>0.0</td>\n",
       "      <td>592.686562</td>\n",
       "      <td>626.014992</td>\n",
       "    </tr>\n",
       "    <tr>\n",
       "      <th>127</th>\n",
       "      <td>127</td>\n",
       "      <td>0.0</td>\n",
       "      <td>52.046324</td>\n",
       "      <td>1113.061244</td>\n",
       "    </tr>\n",
       "    <tr>\n",
       "      <th>141</th>\n",
       "      <td>141</td>\n",
       "      <td>0.0</td>\n",
       "      <td>-2010.897184</td>\n",
       "      <td>1966.574195</td>\n",
       "    </tr>\n",
       "    <tr>\n",
       "      <th>142</th>\n",
       "      <td>142</td>\n",
       "      <td>0.0</td>\n",
       "      <td>-1518.528569</td>\n",
       "      <td>1161.963168</td>\n",
       "    </tr>\n",
       "    <tr>\n",
       "      <th>154</th>\n",
       "      <td>154</td>\n",
       "      <td>0.0</td>\n",
       "      <td>1259.400866</td>\n",
       "      <td>1350.555050</td>\n",
       "    </tr>\n",
       "  </tbody>\n",
       "</table>\n",
       "</div>"
      ],
      "text/plain": [
       "     participantId  apartmentId            X            Y\n",
       "44              44          0.0   592.686562   626.014992\n",
       "127            127          0.0    52.046324  1113.061244\n",
       "141            141          0.0 -2010.897184  1966.574195\n",
       "142            142          0.0 -1518.528569  1161.963168\n",
       "154            154          0.0  1259.400866  1350.555050"
      ]
     },
     "execution_count": 25,
     "metadata": {},
     "output_type": "execute_result"
    }
   ],
   "source": [
    "dfNA = df.copy()\n",
    "dfNA.drop(dfNA[dfNA['apartmentId'] != 0].index, inplace = True) #Only apartmentId = 0(NA)\n",
    "dfNA.head()"
   ]
  },
  {
   "cell_type": "code",
   "execution_count": 26,
   "metadata": {},
   "outputs": [
    {
     "data": {
      "text/html": [
       "<div>\n",
       "<style scoped>\n",
       "    .dataframe tbody tr th:only-of-type {\n",
       "        vertical-align: middle;\n",
       "    }\n",
       "\n",
       "    .dataframe tbody tr th {\n",
       "        vertical-align: top;\n",
       "    }\n",
       "\n",
       "    .dataframe thead th {\n",
       "        text-align: right;\n",
       "    }\n",
       "</style>\n",
       "<table border=\"1\" class=\"dataframe\">\n",
       "  <thead>\n",
       "    <tr style=\"text-align: right;\">\n",
       "      <th></th>\n",
       "      <th>participantId</th>\n",
       "      <th>apartmentId</th>\n",
       "      <th>X</th>\n",
       "      <th>Y</th>\n",
       "    </tr>\n",
       "  </thead>\n",
       "  <tbody>\n",
       "    <tr>\n",
       "      <th>0</th>\n",
       "      <td>0</td>\n",
       "      <td>926.0</td>\n",
       "      <td>-2724.627767</td>\n",
       "      <td>6866.208183</td>\n",
       "    </tr>\n",
       "    <tr>\n",
       "      <th>1</th>\n",
       "      <td>1</td>\n",
       "      <td>928.0</td>\n",
       "      <td>-1526.937233</td>\n",
       "      <td>5582.295135</td>\n",
       "    </tr>\n",
       "    <tr>\n",
       "      <th>2</th>\n",
       "      <td>2</td>\n",
       "      <td>291.0</td>\n",
       "      <td>-1360.990599</td>\n",
       "      <td>2108.804385</td>\n",
       "    </tr>\n",
       "    <tr>\n",
       "      <th>3</th>\n",
       "      <td>3</td>\n",
       "      <td>1243.0</td>\n",
       "      <td>-1558.517201</td>\n",
       "      <td>5600.664347</td>\n",
       "    </tr>\n",
       "    <tr>\n",
       "      <th>794650</th>\n",
       "      <td>4</td>\n",
       "      <td>136.0</td>\n",
       "      <td>1488.843265</td>\n",
       "      <td>3503.579947</td>\n",
       "    </tr>\n",
       "  </tbody>\n",
       "</table>\n",
       "</div>"
      ],
      "text/plain": [
       "        participantId  apartmentId            X            Y\n",
       "0                   0        926.0 -2724.627767  6866.208183\n",
       "1                   1        928.0 -1526.937233  5582.295135\n",
       "2                   2        291.0 -1360.990599  2108.804385\n",
       "3                   3       1243.0 -1558.517201  5600.664347\n",
       "794650              4        136.0  1488.843265  3503.579947"
      ]
     },
     "execution_count": 26,
     "metadata": {},
     "output_type": "execute_result"
    }
   ],
   "source": [
    "dfHome = df.copy()\n",
    "dfHome.drop(dfHome[dfHome['apartmentId'] == 0].index, inplace = True) #Only apartmentId = 0(NA)\n",
    "dfHome.head()"
   ]
  },
  {
   "cell_type": "code",
   "execution_count": 27,
   "metadata": {},
   "outputs": [
    {
     "data": {
      "text/plain": [
       "\"df.to_csv(r'ProfileApartment.csv', index=False)\\ndfNA.to_csv(r'NAApartment.csv', index=False)\\ndfHome.to_csv(r'HomeApartment.csv', index=False)\\n\""
      ]
     },
     "execution_count": 27,
     "metadata": {},
     "output_type": "execute_result"
    }
   ],
   "source": [
    "\"\"\"df.to_csv(r'ProfileApartment.csv', index=False)\n",
    "dfNA.to_csv(r'NAApartment.csv', index=False)\n",
    "dfHome.to_csv(r'HomeApartment.csv', index=False)\n",
    "\"\"\""
   ]
  },
  {
   "cell_type": "code",
   "execution_count": 28,
   "metadata": {},
   "outputs": [
    {
     "data": {
      "text/html": [
       "<div>\n",
       "<style scoped>\n",
       "    .dataframe tbody tr th:only-of-type {\n",
       "        vertical-align: middle;\n",
       "    }\n",
       "\n",
       "    .dataframe tbody tr th {\n",
       "        vertical-align: top;\n",
       "    }\n",
       "\n",
       "    .dataframe thead th {\n",
       "        text-align: right;\n",
       "    }\n",
       "</style>\n",
       "<table border=\"1\" class=\"dataframe\">\n",
       "  <thead>\n",
       "    <tr style=\"text-align: right;\">\n",
       "      <th></th>\n",
       "      <th>participantId</th>\n",
       "      <th>apartmentId</th>\n",
       "      <th>X</th>\n",
       "      <th>Y</th>\n",
       "    </tr>\n",
       "  </thead>\n",
       "  <tbody>\n",
       "    <tr>\n",
       "      <th>0</th>\n",
       "      <td>0</td>\n",
       "      <td>926.0</td>\n",
       "      <td>-2724.627767</td>\n",
       "      <td>6866.208183</td>\n",
       "    </tr>\n",
       "    <tr>\n",
       "      <th>1</th>\n",
       "      <td>1</td>\n",
       "      <td>928.0</td>\n",
       "      <td>-1526.937233</td>\n",
       "      <td>5582.295135</td>\n",
       "    </tr>\n",
       "    <tr>\n",
       "      <th>2</th>\n",
       "      <td>2</td>\n",
       "      <td>291.0</td>\n",
       "      <td>-1360.990599</td>\n",
       "      <td>2108.804385</td>\n",
       "    </tr>\n",
       "    <tr>\n",
       "      <th>3</th>\n",
       "      <td>3</td>\n",
       "      <td>1243.0</td>\n",
       "      <td>-1558.517201</td>\n",
       "      <td>5600.664347</td>\n",
       "    </tr>\n",
       "    <tr>\n",
       "      <th>794650</th>\n",
       "      <td>4</td>\n",
       "      <td>136.0</td>\n",
       "      <td>1488.843265</td>\n",
       "      <td>3503.579947</td>\n",
       "    </tr>\n",
       "  </tbody>\n",
       "</table>\n",
       "</div>"
      ],
      "text/plain": [
       "        participantId  apartmentId            X            Y\n",
       "0                   0        926.0 -2724.627767  6866.208183\n",
       "1                   1        928.0 -1526.937233  5582.295135\n",
       "2                   2        291.0 -1360.990599  2108.804385\n",
       "3                   3       1243.0 -1558.517201  5600.664347\n",
       "794650              4        136.0  1488.843265  3503.579947"
      ]
     },
     "execution_count": 28,
     "metadata": {},
     "output_type": "execute_result"
    }
   ],
   "source": [
    "dftest = dfHome.iloc[:5]\n",
    "dftest\n"
   ]
  },
  {
   "cell_type": "code",
   "execution_count": 32,
   "metadata": {},
   "outputs": [
    {
     "data": {
      "text/plain": [
       "<AxesSubplot:xlabel='X', ylabel='Y'>"
      ]
     },
     "execution_count": 32,
     "metadata": {},
     "output_type": "execute_result"
    },
    {
     "data": {
      "image/png": "[encoded data removed]",
      "text/plain": [
       "<Figure size 432x288 with 1 Axes>"
      ]
     },
     "metadata": {
      "needs_background": "light"
     },
     "output_type": "display_data"
    }
   ],
   "source": [
    "dfNA.plot.scatter(x = 'X', y = 'Y',s=10)"
   ]
  },
  {
   "cell_type": "code",
   "execution_count": 34,
   "metadata": {},
   "outputs": [
    {
     "data": {
      "image/png": "[encoded data removed]",
      "text/plain": [
       "<Figure size 432x288 with 1 Axes>"
      ]
     },
     "metadata": {
      "needs_background": "light"
     },
     "output_type": "display_data"
    }
   ],
   "source": [
    "plt.scatter(dfHome.X, dfHome.Y,s=10)\n",
    "plt.xlim(-5000, 3000)\n",
    "plt.ylim(0, 8000)\n",
    "plt.show()"
   ]
  }
 ],
 "metadata": {
  "interpreter": {
   "hash": "a42ccb73e7d9bfdf27e036f1d2b8b681e55fc0743cc5586bc2474d4a60f4b886"
  },
  "kernelspec": {
   "display_name": "Python 3.10.4 64-bit",
   "language": "python",
   "name": "python3"
  },
  "language_info": {
   "codemirror_mode": {
    "name": "ipython",
    "version": 3
   },
   "file_extension": ".py",
   "mimetype": "text/x-python",
   "name": "python",
   "nbconvert_exporter": "python",
   "pygments_lexer": "ipython3",
   "version": "3.10.4"
  },
  "orig_nbformat": 4
 },
 "nbformat": 4,
 "nbformat_minor": 2
}
